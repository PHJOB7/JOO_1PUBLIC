{
 "cells": [
  {
   "cell_type": "markdown",
   "id": "1fd038a4-5166-4a0e-ab13-d4d33084f9e4",
   "metadata": {},
   "source": [
    "# Data Science Tools and Ecosystem"
   ]
  },
  {
   "cell_type": "markdown",
   "id": "5c31c617-a078-46fc-97a6-a20592289e85",
   "metadata": {},
   "source": [
    "In this notebook, Data Science Tools and Ecosystem are summarized."
   ]
  },
  {
   "cell_type": "markdown",
   "id": "e8059b2c-73e3-47b4-8786-7a98301cf79e",
   "metadata": {},
   "source": [
    "**Objectives:**\n",
    "+ List popular languages for Data Science\n",
    "+ List commonly used libraries used by Data Scientists include\n",
    "+ Tabulate Data Science Tools\n",
    "+ Give a few examples of evaluating arithmetic expressions in Python\n",
    "    + Provide a simple arithmetic expression to mutiply then add integers\n",
    "    + Convert 200 minutes to hours by diving by 60\n",
    "+ Share your notebook through GitHub"
   ]
  },
  {
   "cell_type": "markdown",
   "id": "ea548eba-85ec-4b96-a35a-d06d1d798cb0",
   "metadata": {},
   "source": [
    "Some of the popular languages that Data Scientists use are:\n",
    "1. Python\n",
    "2. R\n",
    "3. SQL\n",
    "4. Java\n",
    "5. SAS\n",
    "6. Scala\n",
    "7. Matlab\n",
    "8. Julia\n",
    "9. Ruby\n",
    "10. Perl\n",
    "11. JavaScript\n",
    "12. C++"
   ]
  },
  {
   "cell_type": "markdown",
   "id": "e8fd7aec-f664-4643-b6c1-0490c9a841d4",
   "metadata": {},
   "source": [
    "Some of the commonly used libraries used by Data Scientists include:\n",
    "1. pandas\n",
    "2. NumPy\n",
    "3. scikit-learn\n",
    "4. matplotlib\n",
    "5. seaborn"
   ]
  },
  {
   "cell_type": "markdown",
   "id": "93e7875c-a046-41ab-bff5-e17a60663cf4",
   "metadata": {},
   "source": [
    "| Data Science Tools                     | \r\n",
    "|:---------------------------------------| \r\n",
    "| Jupyter Notebook                       | \r\n",
    "| RStudio                                | \r\n",
    "| Visual Studio Code (VS Code)          | \r\n",
    "| Spyder                                 | \r\n",
    "| PyCharm                                | "
   ]
  },
  {
   "cell_type": "markdown",
   "id": "7ac4f917-81b2-4e05-ac7b-4eff26c3efde",
   "metadata": {},
   "source": [
    "### Below are a few examples of evaluating arithmetic expressions in Python."
   ]
  },
  {
   "cell_type": "code",
   "execution_count": 2,
   "id": "db5b9053-aae2-4e34-a27e-f16b7fdc9635",
   "metadata": {},
   "outputs": [
    {
     "data": {
      "text/plain": [
       "17"
      ]
     },
     "execution_count": 2,
     "metadata": {},
     "output_type": "execute_result"
    }
   ],
   "source": [
    "# This is a simple arithmetic expression to multiply then add integers\n",
    "(3*4)+5"
   ]
  },
  {
   "cell_type": "code",
   "execution_count": 4,
   "id": "d0aa1e7a-c7a7-4914-9a78-bc650823ea24",
   "metadata": {},
   "outputs": [
    {
     "data": {
      "text/plain": [
       "3.3333333333333335"
      ]
     },
     "execution_count": 4,
     "metadata": {},
     "output_type": "execute_result"
    }
   ],
   "source": [
    "# This will convert 200 minutes to hours by diving by \n",
    "200/60"
   ]
  },
  {
   "cell_type": "markdown",
   "id": "4a2e59db-41b2-4a84-909d-2ede79d2e26c",
   "metadata": {},
   "source": [
    "## Author\n",
    "John Onimisi Obidi"
   ]
  },
  {
   "cell_type": "code",
   "execution_count": null,
   "id": "2e4bcad0-0567-4f85-8dfe-219705f44bc8",
   "metadata": {},
   "outputs": [],
   "source": []
  }
 ],
 "metadata": {
  "kernelspec": {
   "display_name": "Python 3 (ipykernel)",
   "language": "python",
   "name": "python3"
  },
  "language_info": {
   "codemirror_mode": {
    "name": "ipython",
    "version": 3
   },
   "file_extension": ".py",
   "mimetype": "text/x-python",
   "name": "python",
   "nbconvert_exporter": "python",
   "pygments_lexer": "ipython3",
   "version": "3.12.4"
  }
 },
 "nbformat": 4,
 "nbformat_minor": 5
}
