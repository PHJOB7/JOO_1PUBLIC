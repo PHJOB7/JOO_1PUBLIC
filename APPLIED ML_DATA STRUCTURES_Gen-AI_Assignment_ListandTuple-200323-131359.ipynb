{
 "cells": [
  {
   "cell_type": "code",
   "execution_count": 14,
   "id": "4a0b01f3-27d0-4adf-852e-4180baf581e2",
   "metadata": {},
   "outputs": [],
   "source": [
    "# Student Marks\n",
    "student_marks = [['Name',   ['A','B','C','D','E']],\n",
    "                 ['Ankit',   [41, 34, 45, 55, 63]],\n",
    "                 ['Aravind', [42, 23, 34, 44, 53]],\n",
    "                 ['Lakshay', [32, 23, 13, 54, 67]],\n",
    "                 ['Gyan',    [23, 82, 23, 63, 34]],\n",
    "                 ['Pranav',   [21, 23, 25, 56, 56]]]"
   ]
  },
  {
   "cell_type": "code",
   "execution_count": 28,
   "id": "990eb57a-87a4-425e-a6ec-daedb1b1d331",
   "metadata": {},
   "outputs": [],
   "source": [
    "# Who scored the highest marks in the subject B?\n",
    "# Function to find the student with the highest marks in a particular subject \n",
    "def highest_in_subject(student_marks, subject_index):\n",
    "    highest_marks = -1\n",
    "    top_student = \"\" \n",
    "    for student in student_marks[1:]: \n",
    "        name = student[0]\n",
    "        marks = student[1]\n",
    "        if marks[subject_index] > highest_marks:\n",
    "            highest_marks = marks[subject_index]\n",
    "            top_student = name\n",
    "    return top_student, highest_marks"
   ]
  },
  {
   "cell_type": "code",
   "execution_count": 30,
   "id": "85fd2769-c425-4965-87f5-bc2ebf992703",
   "metadata": {},
   "outputs": [
    {
     "name": "stdout",
     "output_type": "stream",
     "text": [
      "Top student in subject B: Gyan with marks 82\n"
     ]
    }
   ],
   "source": [
    "# Find the student with the highest marks in subject B \n",
    "subject_index = 1 # Index for subject B \n",
    "top_student, highest_marks = highest_in_subject(student_marks, subject_index) \n",
    "print(f\"Top student in subject B: {top_student} with marks {highest_marks}\")"
   ]
  },
  {
   "cell_type": "raw",
   "id": "55951460-c740-4318-bce5-4d86b62950ab",
   "metadata": {},
   "source": []
  },
  {
   "cell_type": "code",
   "execution_count": null,
   "id": "1711cb33-e13e-4e63-aa3b-e15fd34668ab",
   "metadata": {},
   "outputs": [],
   "source": [
    "# What is the average marks scored in the subject C?"
   ]
  },
  {
   "cell_type": "code",
   "execution_count": 35,
   "id": "39a980eb-047a-4750-952c-592f62c7cfcd",
   "metadata": {},
   "outputs": [
    {
     "name": "stdout",
     "output_type": "stream",
     "text": [
      "Average marks in subject C: 28.0\n"
     ]
    }
   ],
   "source": [
    "# Student Marks\n",
    "student_marks = [['Name', ['A','B','C','D','E']],\n",
    "                 ['Ankit', [41, 34, 45, 55, 63]],\n",
    "                 ['Aravind', [42, 23, 34, 44, 53]],\n",
    "                 ['Lakshay', [32, 23, 13, 54, 67]],\n",
    "                 ['Gyan', [23, 82, 23, 63, 34]],\n",
    "                 ['Pranav', [21, 23, 25, 56, 56]]]\n",
    "\n",
    "# Function to calculate the overall average marks for each subject\n",
    "def calculate_subject_averages(student_marks):\n",
    "    subject_averages = []\n",
    "    num_subjects = len(student_marks[0][1])\n",
    "    for i in range(num_subjects):\n",
    "        total = 0\n",
    "        for student in student_marks[1:]:\n",
    "            marks = student[1]\n",
    "            total += marks[i]\n",
    "        average = total / (len(student_marks) - 1)\n",
    "        subject_averages.append(average)\n",
    "    return subject_averages\n",
    "\n",
    "# Calculate the overall average marks for each subject\n",
    "subject_averages = calculate_subject_averages(student_marks)\n",
    "\n",
    "# Print the average marks for subject C\n",
    "subject_index = 2  # Index for subject C\n",
    "average_marks_subject_c = subject_averages[subject_index]\n",
    "print(f\"Average marks in subject C: {average_marks_subject_c}\")\n"
   ]
  },
  {
   "cell_type": "raw",
   "id": "c4d644fd-ab01-40be-8a21-b0a823b1a892",
   "metadata": {},
   "source": []
  },
  {
   "cell_type": "code",
   "execution_count": null,
   "id": "b3bc5ed3-50e5-4b08-be35-80273f5f9040",
   "metadata": {},
   "outputs": [],
   "source": [
    "# Who scored the highest percentage of marks?"
   ]
  },
  {
   "cell_type": "code",
   "execution_count": 37,
   "id": "56fbc037-8440-4c37-ac0f-8e8ba8951cf3",
   "metadata": {},
   "outputs": [
    {
     "name": "stdout",
     "output_type": "stream",
     "text": [
      "Top student overall: Ankit with percentage 47.60%\n"
     ]
    }
   ],
   "source": [
    "# Student Marks\n",
    "student_marks = [['Name', ['A','B','C','D','E']],\n",
    "                 ['Ankit', [41, 34, 45, 55, 63]],\n",
    "                 ['Aravind', [42, 23, 34, 44, 53]],\n",
    "                 ['Lakshay', [32, 23, 13, 54, 67]],\n",
    "                 ['Gyan', [23, 82, 23, 63, 34]],\n",
    "                 ['Pranav', [21, 23, 25, 56, 56]]]\n",
    "\n",
    "# Function to calculate the percentage of marks for each student\n",
    "def calculate_percentages(student_marks):\n",
    "    percentages = {}\n",
    "    for student in student_marks[1:]:\n",
    "        name = student[0]\n",
    "        marks = student[1]\n",
    "        total_marks = sum(marks)\n",
    "        max_marks = len(marks) * 100  # Assuming each subject is out of 100\n",
    "        percentage = (total_marks / max_marks) * 100\n",
    "        percentages[name] = percentage\n",
    "    return percentages\n",
    "\n",
    "# Calculate the percentages for each student\n",
    "student_percentages = calculate_percentages(student_marks)\n",
    "\n",
    "# Find the student with the highest percentage\n",
    "top_student = max(student_percentages, key=student_percentages.get)\n",
    "highest_percentage = student_percentages[top_student]\n",
    "\n",
    "print(f\"Top student overall: {top_student} with percentage {highest_percentage:.2f}%\")\n"
   ]
  },
  {
   "cell_type": "raw",
   "id": "ffda3821-326a-4f03-ae3a-f01a337581aa",
   "metadata": {},
   "source": []
  },
  {
   "cell_type": "code",
   "execution_count": 16,
   "id": "b354c4b0-e97d-4ccd-9067-6ec620b45870",
   "metadata": {},
   "outputs": [],
   "source": [
    "# If considered only top-4 subjects of a candidate, then who scored the highest\n",
    "# percentage of marks?"
   ]
  },
  {
   "cell_type": "code",
   "execution_count": 39,
   "id": "b20d1505-17e1-4b35-8087-98676b7d6bc8",
   "metadata": {},
   "outputs": [
    {
     "name": "stdout",
     "output_type": "stream",
     "text": [
      "Top student with highest percentage in top-4 subjects: Ankit with percentage 51.00%\n"
     ]
    }
   ],
   "source": [
    "# Student Marks\n",
    "student_marks = [['Name', ['A','B','C','D','E']],\n",
    "                 ['Ankit', [41, 34, 45, 55, 63]],\n",
    "                 ['Aravind', [42, 23, 34, 44, 53]],\n",
    "                 ['Lakshay', [32, 23, 13, 54, 67]],\n",
    "                 ['Gyan', [23, 82, 23, 63, 34]],\n",
    "                 ['Pranav', [21, 23, 25, 56, 56]]]\n",
    "\n",
    "# Function to calculate the top-4 percentage of marks for each student\n",
    "def calculate_top_4_percentages(student_marks):\n",
    "    top_4_percentages = {}\n",
    "    for student in student_marks[1:]:\n",
    "        name = student[0]\n",
    "        marks = student[1]\n",
    "        top_4_marks = sorted(marks, reverse=True)[:4]  # Get the top-4 marks\n",
    "        total_marks = sum(top_4_marks)\n",
    "        max_marks = 4 * 100  # Top-4 subjects, each out of 100\n",
    "        percentage = (total_marks / max_marks) * 100\n",
    "        top_4_percentages[name] = percentage\n",
    "    return top_4_percentages\n",
    "\n",
    "# Calculate the top-4 percentages for each student\n",
    "top_4_percentages = calculate_top_4_percentages(student_marks)\n",
    "\n",
    "# Find the student with the highest top-4 percentage\n",
    "top_student = max(top_4_percentages, key=top_4_percentages.get)\n",
    "highest_percentage = top_4_percentages[top_student]\n",
    "\n",
    "print(f\"Top student with highest percentage in top-4 subjects: {top_student} with percentage {highest_percentage:.2f}%\")\n"
   ]
  },
  {
   "cell_type": "code",
   "execution_count": null,
   "id": "bb8585e6-7be9-4571-bc66-ff87b2bc78b6",
   "metadata": {},
   "outputs": [],
   "source": []
  }
 ],
 "metadata": {
  "kernelspec": {
   "display_name": "Python 3 (ipykernel)",
   "language": "python",
   "name": "python3"
  },
  "language_info": {
   "codemirror_mode": {
    "name": "ipython",
    "version": 3
   },
   "file_extension": ".py",
   "mimetype": "text/x-python",
   "name": "python",
   "nbconvert_exporter": "python",
   "pygments_lexer": "ipython3",
   "version": "3.12.4"
  }
 },
 "nbformat": 4,
 "nbformat_minor": 5
}
